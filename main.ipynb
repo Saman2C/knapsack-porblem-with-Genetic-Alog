{
 "cells": [
  {
   "cell_type": "markdown",
   "metadata": {},
   "source": [
    "## Saman Davachi Tousi\n",
    "### 810101420\n",
    "### AI CA1"
   ]
  },
  {
   "cell_type": "markdown",
   "metadata": {},
   "source": [
    "Reading the `csv` file and `declaring` the variable of the question:\n"
   ]
  },
  {
   "cell_type": "code",
   "execution_count": 141,
   "metadata": {},
   "outputs": [],
   "source": [
    "\n",
    "import random\n",
    "import csv\n",
    "\n",
    "with open('snacks.csv', 'r') as file:\n",
    "    reader = csv.reader(file)\n",
    "    snacksValue  = []\n",
    "    snacksWeight  = []\n",
    "    columnOne = [row[1] for row in reader]\n",
    "    for i in range(1, len(columnOne)):\n",
    "        snacksWeight.append(int(columnOne[i]))\n",
    "        \n",
    "with open('snacks.csv', 'r') as file:\n",
    "    reader = csv.reader(file)\n",
    "    columnTwo = [row[2] for row in reader]\n",
    "    for i in range(1, len(columnTwo)):\n",
    "        snacksValue.append(int(columnTwo[i]))\n",
    "        \n",
    "maxWeight = 10\n",
    "minValue = 15\n",
    "minNum, maxNum = 2,4\n",
    "koromonLength = 19"
   ]
  },
  {
   "cell_type": "markdown",
   "metadata": {},
   "source": [
    "#### Defining the gentic and kormon and generating our population"
   ]
  },
  {
   "cell_type": "markdown",
   "metadata": {},
   "source": [
    "I make a array which its `length` is the `number of the snacks` and specify a `Coefficient` for `each snack` which is between `0` to `max weight` and I make a random number between maximum and minumun number snacks.\n"
   ]
  },
  {
   "cell_type": "code",
   "execution_count": 142,
   "metadata": {},
   "outputs": [],
   "source": [
    "numPopulation = 100\n",
    "\n",
    "population = [[0 for col in range(koromonLength)] for row in range(numPopulation)]\n",
    "\n",
    "for i in range(numPopulation):\n",
    "    numSnacks = minNum + random.randint(0, maxNum-minNum+1)\n",
    "    randoms = []\n",
    "    for j in range(numSnacks):\n",
    "        n = random.randint(0, koromonLength-1)\n",
    "        randoms.append(n)\n",
    "    for k in randoms:\n",
    "        weight = random.randint(1, maxWeight)\n",
    "        population[i][k] = weight\n"
   ]
  },
  {
   "cell_type": "markdown",
   "metadata": {},
   "source": [
    "#### Making Fitness function for finding the accepted Gens:\n",
    "\n"
   ]
  },
  {
   "cell_type": "markdown",
   "metadata": {},
   "source": [
    "In this function I check the total weight and total value and the available amount for all the parameters"
   ]
  },
  {
   "cell_type": "code",
   "execution_count": 143,
   "metadata": {},
   "outputs": [],
   "source": [
    "def fitnessFunction(array):\n",
    "    betterGens = [] \n",
    "    for i in range(numPopulation):\n",
    "        totalWeight = 0\n",
    "        totalValue = 0\n",
    "        isAvailable = True\n",
    "        for j in range(koromonLength):\n",
    "            if array[i][j] > snacksWeight[j]:\n",
    "                isAvailable = False\n",
    "            totalValue = totalValue + (array[i][j] * snacksValue[j] / snacksWeight[j])    \n",
    "            totalWeight = totalWeight + array[i][j]\n",
    "        if totalWeight > maxWeight and isAvailable and totalValue >= minValue:\n",
    "            betterGens.append(i)\n",
    "    return betterGens        \n",
    "                 "
   ]
  },
  {
   "cell_type": "markdown",
   "metadata": {},
   "source": [
    "applying fitness algorithm for finding the better Gens:"
   ]
  },
  {
   "cell_type": "code",
   "execution_count": 144,
   "metadata": {},
   "outputs": [
    {
     "name": "stdout",
     "output_type": "stream",
     "text": [
      "[1, 2, 8, 10, 17, 18, 22, 25, 32, 36, 37, 49, 50, 53, 58, 71, 79, 80, 81, 86, 90, 92]\n"
     ]
    }
   ],
   "source": [
    "firstSelected = fitnessFunction(population)\n",
    "print(firstSelected)"
   ]
  },
  {
   "cell_type": "markdown",
   "metadata": {},
   "source": [
    "Making the crossover function which takes the 2 index of koromon:\n",
    "\n",
    "In this function I chop two gens in to 2 parts and stick two cross part to each other.\n"
   ]
  },
  {
   "cell_type": "code",
   "execution_count": 145,
   "metadata": {},
   "outputs": [],
   "source": [
    "def crossover(indexOne, indexTwo):\n",
    "    n = random.randint(1, koromonLength-1)\n",
    "    newGen = population[indexOne][:n] + population[indexTwo][n:]\n",
    "    return newGen"
   ]
  },
  {
   "cell_type": "markdown",
   "metadata": {},
   "source": [
    "Making the mutation function:\n",
    "\n",
    "In this function I check if this gen can accept more weight I add this amount to a random snack.\n"
   ]
  },
  {
   "cell_type": "code",
   "execution_count": 146,
   "metadata": {},
   "outputs": [],
   "source": [
    "def mutation(index):\n",
    "    n = random.randint(0, koromonLength-1)\n",
    "    summation = sum(population[index])\n",
    "    if(summation <= maxWeight):\n",
    "        population[index][n] = population[index][n] + maxWeight - summation  \n",
    "    "
   ]
  },
  {
   "cell_type": "markdown",
   "metadata": {},
   "source": [
    "#### Checking the result"
   ]
  },
  {
   "cell_type": "markdown",
   "metadata": {},
   "source": [
    "Making algorithm to optimize the answers using the mutation, crossover function and hyper parameters.\n",
    "We use the hyper parameter for contolling the effecienty of our output.\n",
    "In this case we define the number of the optimised gentic as the hyper parameter.\n"
   ]
  },
  {
   "cell_type": "code",
   "execution_count": 147,
   "metadata": {},
   "outputs": [],
   "source": [
    "def checkingFitness(array):\n",
    "    totalWeight = 0\n",
    "    totalValue = 0\n",
    "    isAvailable = True\n",
    "    for j in range(koromonLength-1):\n",
    "        if (array[j] > snacksWeight[j]):\n",
    "            isAvailable = False\n",
    "        totalValue = totalValue + (array[j] * snacksValue[j] / snacksWeight[j])    \n",
    "        totalWeight = totalWeight + array [j]\n",
    "    if totalWeight > maxWeight and isAvailable and totalValue >= minValue:\n",
    "        return True\n",
    "    return False"
   ]
  },
  {
   "cell_type": "code",
   "execution_count": 148,
   "metadata": {},
   "outputs": [
    {
     "name": "stdout",
     "output_type": "stream",
     "text": [
      "Result doesn't change(crossover)\n",
      "Result doesn't change(crossover)\n",
      "Result doesn't change(crossover)\n",
      "Result doesn't change(crossover)\n",
      "Result got better(crossover)\n",
      "Result doesn't change(crossover)\n",
      "Result doesn't change(crossover)\n",
      "Result doesn't change(mutation)\n",
      "Result doesn't change(mutation)\n"
     ]
    }
   ],
   "source": [
    "hyperParameter = 10\n",
    "\n",
    "for i in range(int(hyperParameter*3/4)):\n",
    "    a = random.randint(0, numPopulation-1)\n",
    "    b = random.randint(0, numPopulation-1)\n",
    "    if((checkingFitness(population[a]) or checkingFitness(population[b])) and checkingFitness(crossover(a, b))):\n",
    "        print(\"Result got better(crossover)\")\n",
    "    else:\n",
    "        print(\"Result doesn't change(crossover)\")    \n",
    "    \n",
    "for i in range(int(hyperParameter*1/4)):\n",
    "    a = random.randint(0, numPopulation-1)\n",
    "    if (checkingFitness(population[a]) and checkingFitness(mutation(a))):\n",
    "        print(\"Result got better(mutation)\")\n",
    "    else:\n",
    "        print(\"Result doesn't change(mutation)\")"
   ]
  },
  {
   "cell_type": "markdown",
   "metadata": {},
   "source": [
    "Checking change of the result by changing the hyperparameter:\n",
    "\n",
    "After applying the algorithm in to the population I see a little change in my result after 10 times crossover and mutation algorithm the result got approximately 10% better. It means our generation become better. After changing the hyper parameter into the 20, 50 the result become 10% (2% less and more) better. "
   ]
  },
  {
   "cell_type": "markdown",
   "metadata": {},
   "source": [
    "#### Answering the questions:\n",
    "\n"
   ]
  },
  {
   "cell_type": "markdown",
   "metadata": {},
   "source": [
    "1- If the population become small we lost the variety and there is a big chance that our crossover function and our algorithm doesn't work properly and in this situation the mutation algorithm work better,Despite the fact that is lead us in to the faster iterations it leads us in to the worse answer, and if our population become too big is is true that we have a wide variety and it leads us into the better solution but it leads us to a slower iterations. \n",
    "\n",
    "2-Due to the fact that our Gens become better after increasing our population, the number of the better gen increases and it makes our chance for finding the more better gens more(increasing our precise), but it leads us into the slower iteration as result of the overpopulation.(become slower)\n",
    "\n",
    "3- Crossover as result of having wide variety works well for the big population, and mutation algorithm as a result of not effecting by the population significantly it works properly for wide range of population.To answer this question I have to say that because we don't have any data about the number of our population it is better to use both algorithm and controll our solution with hyper parameter.(It is better not to choose only one.)\n",
    "\n",
    "4- I think preprocessing and defining the gens properly. For example by deleteing the gens that has a significant different from the settled parameters.\n",
    "\n",
    "5- I think it is true (As result of my report part), for overcoming this problem we should make a new generation with the better generation that are chosen by the fitness function. Another thing that we can do is to use more efficient algorithm which depends on our problems.\n",
    "\n",
    "6- We can stop the algorithm after specific number of running and checke them with the fitness function, if not any sensible change happened we can stop and think for the better algorithms and defenitions for getting better result. "
   ]
  }
 ],
 "metadata": {
  "kernelspec": {
   "display_name": "Python 3",
   "language": "python",
   "name": "python3"
  },
  "language_info": {
   "codemirror_mode": {
    "name": "ipython",
    "version": 3
   },
   "file_extension": ".py",
   "mimetype": "text/x-python",
   "name": "python",
   "nbconvert_exporter": "python",
   "pygments_lexer": "ipython3",
   "version": "3.11.5"
  }
 },
 "nbformat": 4,
 "nbformat_minor": 2
}
